{
 "cells": [
  {
   "cell_type": "markdown",
   "id": "6f20bf92",
   "metadata": {},
   "source": [
    "<h1>Data Science Tools and EcoSystem</h1>"
   ]
  },
  {
   "cell_type": "markdown",
   "id": "f98b2045",
   "metadata": {},
   "source": [
    "In this notebook, Data Science Tools and Ecosystem are summarized."
   ]
  },
  {
   "cell_type": "markdown",
   "id": "5d1dd49f",
   "metadata": {},
   "source": [
    "__Objectives:__"
   ]
  },
  {
   "cell_type": "markdown",
   "id": "64e835e9",
   "metadata": {},
   "source": [
    "* Listed Popular Languages in Data Science.\n",
    "* Listed Commonly used libraries in Data Science.\n",
    "* Listed Data Science Tools.\n",
    "* Displayed a basic arithmetic Expression using Python\n",
    "* Pushed Whole Notebook To Github"
   ]
  },
  {
   "cell_type": "markdown",
   "id": "02c02e2e",
   "metadata": {},
   "source": [
    "Some of the popular languages that Data Scientists use are:\n",
    "1. Python\n",
    "2. Julia\n",
    "3. R\n",
    "4. Scala"
   ]
  },
  {
   "cell_type": "markdown",
   "id": "ef7b2c72",
   "metadata": {},
   "source": [
    "Some of the commonly used libraries used by Data Scientists include:\n",
    "1. Numpy\n",
    "2. Pandas\n",
    "3. Scipy\n",
    "4. PyTorch"
   ]
  },
  {
   "cell_type": "markdown",
   "id": "451a0c91",
   "metadata": {},
   "source": [
    "\n",
    "| Data Science Tools: |\n",
    "|:--------:|\n",
    "|TensorFlow| \n",
    "|Jupyter Notebook |  \n",
    "|R |  \n",
    "|Matlab  |"
   ]
  },
  {
   "cell_type": "markdown",
   "id": "aea24c2b",
   "metadata": {},
   "source": [
    "<h3>Below are a few examples of evaluating arithmetic expressions in Python</h3>"
   ]
  },
  {
   "cell_type": "code",
   "execution_count": 5,
   "id": "38b36222",
   "metadata": {},
   "outputs": [
    {
     "data": {
      "text/plain": [
       "17"
      ]
     },
     "execution_count": 5,
     "metadata": {},
     "output_type": "execute_result"
    }
   ],
   "source": [
    "(3*4)+5 \n",
    "#This a simple arithmetic expression to mutiply then add integers"
   ]
  },
  {
   "cell_type": "code",
   "execution_count": 6,
   "id": "012cfef2",
   "metadata": {},
   "outputs": [
    {
     "name": "stdout",
     "output_type": "stream",
     "text": [
      "3.3333333333333335\n"
     ]
    }
   ],
   "source": [
    "Minutes=200\n",
    "hours= Minutes/60\n",
    "print(hours)"
   ]
  },
  {
   "cell_type": "markdown",
   "id": "690017ff",
   "metadata": {},
   "source": [
    "<h2>Author</h2>\n",
    "Rajnish Goyal"
   ]
  }
 ],
 "metadata": {
  "kernelspec": {
   "display_name": "Python 3 (ipykernel)",
   "language": "python",
   "name": "python3"
  },
  "language_info": {
   "codemirror_mode": {
    "name": "ipython",
    "version": 3
   },
   "file_extension": ".py",
   "mimetype": "text/x-python",
   "name": "python",
   "nbconvert_exporter": "python",
   "pygments_lexer": "ipython3",
   "version": "3.11.5"
  }
 },
 "nbformat": 4,
 "nbformat_minor": 5
}
